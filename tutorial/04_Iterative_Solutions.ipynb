{
 "cells": [
  {
   "cell_type": "markdown",
   "id": "3135db1f-7f4c-415f-a722-e676b09dd26a",
   "metadata": {},
   "source": [
    "# The Jacobi Method"
   ]
  },
  {
   "cell_type": "markdown",
   "id": "1ba76ced-d4cc-4b8d-b73e-d71abe237f6b",
   "metadata": {},
   "source": [
    "# Practical Exercise: Implementing the Jacobi method"
   ]
  },
  {
   "cell_type": "markdown",
   "id": "fb6b289b-ac6d-421a-9721-2833e68c9f89",
   "metadata": {},
   "source": [
    "# The Gauss-Seidel method"
   ]
  },
  {
   "cell_type": "markdown",
   "id": "51ede103-4c43-411b-ad00-d85a38a26ddf",
   "metadata": {},
   "source": [
    "# Practical Exercise: Implementing the Gauss-Seidel method"
   ]
  },
  {
   "cell_type": "markdown",
   "id": "2688a2ad-fb66-4291-8b72-986c0e526b26",
   "metadata": {},
   "source": [
    "# Successive Over Relaxation"
   ]
  },
  {
   "cell_type": "markdown",
   "id": "f2666a63-caf3-4518-8a6b-c9a780136257",
   "metadata": {},
   "source": [
    "# Practical Exercise: Adding SOR to our existing solvers"
   ]
  },
  {
   "cell_type": "markdown",
   "id": "882a6e6a-1c25-4e74-8fe3-6424ff308362",
   "metadata": {},
   "source": [
    "# Practical Exercise: Evaluation of our solvers"
   ]
  },
  {
   "cell_type": "markdown",
   "id": "f36e954e-cb46-492e-ae00-b456aadd02e5",
   "metadata": {},
   "source": [
    "# "
   ]
  }
 ],
 "metadata": {
  "kernelspec": {
   "display_name": "Python 3 (ipykernel)",
   "language": "python",
   "name": "python3"
  },
  "language_info": {
   "codemirror_mode": {
    "name": "ipython",
    "version": 3
   },
   "file_extension": ".py",
   "mimetype": "text/x-python",
   "name": "python",
   "nbconvert_exporter": "python",
   "pygments_lexer": "ipython3",
   "version": "3.12.1"
  }
 },
 "nbformat": 4,
 "nbformat_minor": 5
}
