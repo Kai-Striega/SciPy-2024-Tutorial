{
 "cells": [
  {
   "cell_type": "code",
   "execution_count": 1,
   "id": "c80ff8eb-c585-4182-869a-b3adf3cb32fd",
   "metadata": {},
   "outputs": [],
   "source": [
    "import numpy as np"
   ]
  },
  {
   "cell_type": "markdown",
   "id": "098cc357-0bad-454a-9c87-602b11dd59a4",
   "metadata": {},
   "source": [
    "# Real to Floating-Point numbers (10 minutes)\n"
   ]
  },
  {
   "cell_type": "markdown",
   "id": "3d08e854-e058-47fc-a6b5-a5343e63632c",
   "metadata": {},
   "source": [
    "# The IEEE-754 standard (10 minutes)"
   ]
  },
  {
   "cell_type": "markdown",
   "id": "71865987-e155-4f0f-8996-861ead9bde2e",
   "metadata": {},
   "source": [
    "# Practical Exercise: Sum of floating point numbers (5 minutes)"
   ]
  },
  {
   "cell_type": "markdown",
   "id": "fdb1c1d7-a70e-4c76-b4bd-31962c817a3d",
   "metadata": {},
   "source": [
    "# Using NumPy to represent Floating-Point numbers (5 minutes)"
   ]
  },
  {
   "cell_type": "markdown",
   "id": "a71cdeb1-78ac-4bc9-a219-876fde34843d",
   "metadata": {},
   "source": [
    "# Practical Exercise: Polynomial Evaluation (10 minutes)"
   ]
  },
  {
   "cell_type": "markdown",
   "id": "885283ec-5049-4094-bfa4-6b5e0a21fac0",
   "metadata": {},
   "source": [
    "# Practical Exercise: Finding the area of a triangle (10 minutes)\n",
    "\n",
    "For this excercise we will calculate the area of a triangle from it's sides. One way of doing this is to use [Heron's formula](https://www.britannica.com/science/Herons-formula):\n",
    "\n",
    "$$ A = \\sqrt{s(s-a)(s-b)(s-c)} $$\n",
    "where\n",
    "$$ s = \\frac{a+b+c}{2} $$\n",
    "\n",
    "Another way, which is algebriaclly equivalent, of doing this is to use Kahan's formula, where we sort the sides such that $a \\ge  b \\ge c$ and then compute:\n",
    "\n",
    "$$ A = \\frac{1}{4} \\sqrt{(a+(b+c))(c-(a-b))(c+(a-b))(a+(b-c))} $$\n",
    "\n",
    "Your task is to experiment with these two equations. Below are some points to guide your experiments:\n",
    "\n",
    "* Do Heron's and Kahan's formulae always give the same results?\n",
    "* What if you use numpy's lower precision data types?\n",
    "* What if you try a = 100000.0, b = 99999.99979, c = 0.00029 in single precision? (hint: the answer is 10.0)"
   ]
  },
  {
   "cell_type": "code",
   "execution_count": null,
   "id": "460669e7-01fa-4996-93a4-00637453c0fb",
   "metadata": {},
   "outputs": [],
   "source": []
  },
  {
   "cell_type": "code",
   "execution_count": null,
   "id": "bc37bd3c-3849-418b-ade2-072f653c4df7",
   "metadata": {},
   "outputs": [],
   "source": []
  }
 ],
 "metadata": {
  "kernelspec": {
   "display_name": "Python 3 (ipykernel)",
   "language": "python",
   "name": "python3"
  },
  "language_info": {
   "codemirror_mode": {
    "name": "ipython",
    "version": 3
   },
   "file_extension": ".py",
   "mimetype": "text/x-python",
   "name": "python",
   "nbconvert_exporter": "python",
   "pygments_lexer": "ipython3",
   "version": "3.12.1"
  }
 },
 "nbformat": 4,
 "nbformat_minor": 5
}
