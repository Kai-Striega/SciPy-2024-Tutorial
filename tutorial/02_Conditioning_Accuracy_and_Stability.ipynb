{
 "cells": [
  {
   "cell_type": "markdown",
   "id": "44837b3e-44ca-49cd-8b9b-c0ae323f2812",
   "metadata": {},
   "source": [
    "# Mathematical Definitions"
   ]
  },
  {
   "cell_type": "markdown",
   "id": "c261b489-6df9-4d52-819e-1a2815e87f17",
   "metadata": {},
   "source": [
    "# Absolute and relative condition numbers"
   ]
  },
  {
   "cell_type": "markdown",
   "id": "02ea5026-25b0-4ed8-bce8-3a607ecf3237",
   "metadata": {},
   "source": [
    "# Practical Exercise: Well conditioned problems"
   ]
  },
  {
   "cell_type": "markdown",
   "id": "d4585be8-1cb9-4d8e-8998-5f73f1ded500",
   "metadata": {},
   "source": [
    "# Practical Exercise: Ill conditioned problems"
   ]
  },
  {
   "cell_type": "markdown",
   "id": "a85875ab-36da-4a79-ac27-bbde12523141",
   "metadata": {},
   "source": [
    "# Analysis: Roots of polynomials"
   ]
  },
  {
   "cell_type": "markdown",
   "id": "cfa225b3-63df-41f1-b858-1242ae6f919e",
   "metadata": {},
   "source": [
    "# Practical Exercise: Wilkinson's Example"
   ]
  },
  {
   "cell_type": "markdown",
   "id": "3ecc6d3f-8038-4c6b-9e3a-3064178d5142",
   "metadata": {},
   "source": []
  },
  {
   "cell_type": "markdown",
   "id": "cfdc59b5-a4e4-4608-bcf4-ed029adf75cf",
   "metadata": {},
   "source": []
  }
 ],
 "metadata": {
  "kernelspec": {
   "display_name": "Python 3 (ipykernel)",
   "language": "python",
   "name": "python3"
  },
  "language_info": {
   "codemirror_mode": {
    "name": "ipython",
    "version": 3
   },
   "file_extension": ".py",
   "mimetype": "text/x-python",
   "name": "python",
   "nbconvert_exporter": "python",
   "pygments_lexer": "ipython3",
   "version": "3.12.1"
  }
 },
 "nbformat": 4,
 "nbformat_minor": 5
}
