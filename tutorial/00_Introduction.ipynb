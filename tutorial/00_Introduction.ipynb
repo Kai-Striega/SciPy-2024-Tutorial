{
 "cells": [
  {
   "cell_type": "markdown",
   "id": "7ff4ab9e-878e-4923-a6d7-c7904bfb2064",
   "metadata": {},
   "source": [
    "# Who am I, and why should you listen to me"
   ]
  },
  {
   "cell_type": "markdown",
   "id": "adf492e9-8aae-4dcf-8e55-93b70297235b",
   "metadata": {},
   "source": [
    "# What are numerical algorithms?"
   ]
  },
  {
   "cell_type": "code",
   "execution_count": null,
   "id": "95574a5b-6455-416c-9aea-00b909bb5a61",
   "metadata": {},
   "outputs": [],
   "source": []
  }
 ],
 "metadata": {
  "kernelspec": {
   "display_name": "Python 3 (ipykernel)",
   "language": "python",
   "name": "python3"
  },
  "language_info": {
   "codemirror_mode": {
    "name": "ipython",
    "version": 3
   },
   "file_extension": ".py",
   "mimetype": "text/x-python",
   "name": "python",
   "nbconvert_exporter": "python",
   "pygments_lexer": "ipython3",
   "version": "3.12.1"
  }
 },
 "nbformat": 4,
 "nbformat_minor": 5
}
