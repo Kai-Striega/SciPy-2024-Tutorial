{
 "cells": [
  {
   "cell_type": "markdown",
   "id": "5b2a8661-57fb-47f1-af4e-fdfeb40e99dc",
   "metadata": {},
   "source": [
    "# Mathematical background"
   ]
  },
  {
   "cell_type": "markdown",
   "id": "4f2c1a7a-e41b-4420-ac3c-dc002d39d22f",
   "metadata": {},
   "source": [
    "# Gaussian Elimination"
   ]
  },
  {
   "cell_type": "markdown",
   "id": "c03ec8ad-22fc-4ac3-b75a-b02bb15d99d8",
   "metadata": {},
   "source": [
    "# Practical Exercise: Implement Gaussian elimination"
   ]
  },
  {
   "cell_type": "markdown",
   "id": "ee58f983-ebcd-483e-9af3-3b3eec1a812e",
   "metadata": {},
   "source": [
    "# Theoretical problems with Gaussian elimination"
   ]
  },
  {
   "cell_type": "markdown",
   "id": "74e75a84-8048-498d-9b04-ed78b7e3648b",
   "metadata": {},
   "source": [
    "# Practical Exercise: Breaking Gaussian elimination"
   ]
  }
 ],
 "metadata": {
  "kernelspec": {
   "display_name": "Python 3 (ipykernel)",
   "language": "python",
   "name": "python3"
  },
  "language_info": {
   "codemirror_mode": {
    "name": "ipython",
    "version": 3
   },
   "file_extension": ".py",
   "mimetype": "text/x-python",
   "name": "python",
   "nbconvert_exporter": "python",
   "pygments_lexer": "ipython3",
   "version": "3.12.1"
  }
 },
 "nbformat": 4,
 "nbformat_minor": 5
}
